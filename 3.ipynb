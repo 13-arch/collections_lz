{
 "cells": [
  {
   "cell_type": "code",
   "execution_count": 1,
   "metadata": {},
   "outputs": [],
   "source": [
    "import numpy as np"
   ]
  },
  {
   "cell_type": "code",
   "execution_count": 5,
   "metadata": {},
   "outputs": [
    {
     "data": {
      "text/plain": [
       "array([[ 1,  2,  3,  4,  5],\n",
       "       [ 6,  7,  8,  9, 10],\n",
       "       [11, 12, 13, 14, 15],\n",
       "       [16, 17, 18, 19, 20],\n",
       "       [21, 22, 23, 24, 25]])"
      ]
     },
     "execution_count": 5,
     "metadata": {},
     "output_type": "execute_result"
    }
   ],
   "source": [
    "A = np.array([[1, 2, 3, 4, 5], \n",
    "              [6, 7, 8, 9, 10],\n",
    "              [11,12,13,14,15],\n",
    "              [16,17,18,19,20],\n",
    "              [21,22,23,24,25]])\n",
    "A"
   ]
  },
  {
   "cell_type": "code",
   "execution_count": 7,
   "metadata": {},
   "outputs": [
    {
     "data": {
      "text/plain": [
       "array([[    0,     1,     1,     2,     3],\n",
       "       [    5,     8,    13,    21,    34],\n",
       "       [   55,    89,   144,   233,   377],\n",
       "       [  610,   987,  1597,  2584,  4181],\n",
       "       [ 6765, 10946, 17711, 28657, 46368]])"
      ]
     },
     "execution_count": 7,
     "metadata": {},
     "output_type": "execute_result"
    }
   ],
   "source": [
    "B=np.array([[0, 1, 1, 2, 3],[ 5, 8, 13, 21, 34],[ 55, 89, 144, 233, 377],[ 610, 987, 1597, 2584, 4181],[ 6765, 10946, 17711, 28657, 46368]])\n",
    "B"
   ]
  },
  {
   "cell_type": "code",
   "execution_count": 8,
   "metadata": {},
   "outputs": [
    {
     "data": {
      "text/plain": [
       "array([[    1,     3,     4,     6,     8],\n",
       "       [   11,    15,    21,    30,    44],\n",
       "       [   66,   101,   157,   247,   392],\n",
       "       [  626,  1004,  1615,  2603,  4201],\n",
       "       [ 6786, 10968, 17734, 28681, 46393]])"
      ]
     },
     "execution_count": 8,
     "metadata": {},
     "output_type": "execute_result"
    }
   ],
   "source": [
    "C=A+B\n",
    "C"
   ]
  },
  {
   "cell_type": "code",
   "execution_count": 9,
   "metadata": {},
   "outputs": [
    {
     "data": {
      "text/plain": [
       "[[23, 21, 20, 13, 15],\n",
       " [18, 24, 21, 8, 5],\n",
       " [20, 3, 25, 6, 3],\n",
       " [1, 4, 11, 19, 12],\n",
       " [25, 15, 12, 12, 24]]"
      ]
     },
     "execution_count": 9,
     "metadata": {},
     "output_type": "execute_result"
    }
   ],
   "source": [
    "D=([[23, 21, 20, 13, 15],[ 18, 24, 21, 8, 5],[ 20, 3, 25, 6, 3], [1, 4, 11, 19, 12], [25, 15, 12, 12,24]])\n",
    "D"
   ]
  },
  {
   "cell_type": "code",
   "execution_count": null,
   "metadata": {},
   "outputs": [],
   "source": []
  }
 ],
 "metadata": {
  "kernelspec": {
   "display_name": "Python 3",
   "language": "python",
   "name": "python3"
  },
  "language_info": {
   "codemirror_mode": {
    "name": "ipython",
    "version": 3
   },
   "file_extension": ".py",
   "mimetype": "text/x-python",
   "name": "python",
   "nbconvert_exporter": "python",
   "pygments_lexer": "ipython3",
   "version": "3.12.3"
  }
 },
 "nbformat": 4,
 "nbformat_minor": 2
}
