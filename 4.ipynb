{
 "cells": [
  {
   "cell_type": "code",
   "execution_count": null,
   "metadata": {},
   "outputs": [],
   "source": [
    "import numpy as np#импортируем библиотеку"
   ]
  },
  {
   "cell_type": "code",
   "execution_count": 20,
   "metadata": {},
   "outputs": [
    {
     "data": {
      "text/plain": [
       "array([[ 1,  2,  3,  4,  5],\n",
       "       [ 6,  7,  8,  9, 10],\n",
       "       [11, 12, 13, 14, 15],\n",
       "       [16, 17, 18, 19, 20],\n",
       "       [21, 22, 23, 24, 25]])"
      ]
     },
     "execution_count": 20,
     "metadata": {},
     "output_type": "execute_result"
    }
   ],
   "source": [
    "A = np.array([[1, 2, 3, 4, 5], #пишем любую матрицу 5 на 5\n",
    "              [6, 7, 8, 9, 10],\n",
    "              [11,12,13,14,15],\n",
    "              [16,17,18,19,20],\n",
    "              [21,22,23,24,25]])\n",
    "A"
   ]
  },
  {
   "cell_type": "code",
   "execution_count": 21,
   "metadata": {},
   "outputs": [
    {
     "data": {
      "text/plain": [
       "array([[    0,     1,     1,     2,     3],\n",
       "       [    5,     8,    13,    21,    34],\n",
       "       [   55,    89,   144,   233,   377],\n",
       "       [  610,   987,  1597,  2584,  4181],\n",
       "       [ 6765, 10946, 17711, 28657, 46368]])"
      ]
     },
     "execution_count": 21,
     "metadata": {},
     "output_type": "execute_result"
    }
   ],
   "source": [
    "B=np.array([[0, 1, 1, 2, 3],[ 5, 8, 13, 21, 34],[ 55, 89, 144, 233, 377],[ 610, 987, 1597, 2584, 4181],[ 6765, 10946, 17711, 28657, 46368]])#заполняем\n",
    "#матрицу 5 на 5 рядом фибоначчи\n",
    "B"
   ]
  },
  {
   "cell_type": "code",
   "execution_count": 22,
   "metadata": {},
   "outputs": [
    {
     "data": {
      "text/plain": [
       "array([[    1,     3,     4,     6,     8],\n",
       "       [   11,    15,    21,    30,    44],\n",
       "       [   66,   101,   157,   247,   392],\n",
       "       [  626,  1004,  1615,  2603,  4201],\n",
       "       [ 6786, 10968, 17734, 28681, 46393]])"
      ]
     },
     "execution_count": 22,
     "metadata": {},
     "output_type": "execute_result"
    }
   ],
   "source": [
    "C=A+B#сложение двух матриц\n",
    "C"
   ]
  },
  {
   "cell_type": "code",
   "execution_count": 27,
   "metadata": {},
   "outputs": [
    {
     "data": {
      "text/plain": [
       "array([[23, 21, 20, 13, 15],\n",
       "       [18, 24, 21,  8,  5],\n",
       "       [20,  3, 25,  6,  3],\n",
       "       [ 1,  4, 11, 19, 12],\n",
       "       [25, 15, 12, 12, 24]])"
      ]
     },
     "execution_count": 27,
     "metadata": {},
     "output_type": "execute_result"
    }
   ],
   "source": [
    "D=np.array([[23, 21, 20, 13, 15],[ 18, 24, 21, 8, 5],[ 20, 3, 25, 6, 3], [1, 4, 11, 19, 12], [25, 15, 12, 12,24]])#заполняем матрицу случайными числами\n",
    "D"
   ]
  },
  {
   "cell_type": "code",
   "execution_count": 29,
   "metadata": {},
   "outputs": [
    {
     "data": {
      "text/plain": [
       "array([[ 1.00000000e+00, -5.00000000e-01,  1.66666667e-01,\n",
       "         0.00000000e+00, -3.33333333e-02],\n",
       "       [ 0.00000000e+00,  2.38095238e-02,  0.00000000e+00,\n",
       "        -3.33333333e-02,  0.00000000e+00],\n",
       "       [ 7.57575758e-02,  0.00000000e+00, -2.53113553e-01,\n",
       "         0.00000000e+00,  1.16666667e+00],\n",
       "       [ 0.00000000e+00, -7.09215686e+00,  0.00000000e+00,\n",
       "         5.49711779e+01,  0.00000000e+00],\n",
       "       [-5.29124242e+02,  0.00000000e+00,  8.54513000e+05,\n",
       "         0.00000000e+00, -8.65802531e+04]])"
      ]
     },
     "execution_count": 29,
     "metadata": {},
     "output_type": "execute_result"
    }
   ],
   "source": [
    "L=np.array([[1,-1/2,1/6,0,-1/30],[0,1/42,0,-1/30,0],\n",
    "    [5/66,0,-691/2730,0,7/6],[0,-3617/510,0,43867/798,0],\n",
    "    [-174611/330,0,854513,0,-236364091/2730]])#ряд бернулли\n",
    "L"
   ]
  },
  {
   "cell_type": "code",
   "execution_count": 30,
   "metadata": {},
   "outputs": [
    {
     "data": {
      "text/plain": [
       "array([[ 2.40000000e+01,  2.05000000e+01,  2.01666667e+01,\n",
       "         1.30000000e+01,  1.49666667e+01],\n",
       "       [ 1.80000000e+01,  2.40238095e+01,  2.10000000e+01,\n",
       "         7.96666667e+00,  5.00000000e+00],\n",
       "       [ 2.00757576e+01,  3.00000000e+00,  2.47468864e+01,\n",
       "         6.00000000e+00,  4.16666667e+00],\n",
       "       [ 1.00000000e+00, -3.09215686e+00,  1.10000000e+01,\n",
       "         7.39711779e+01,  1.20000000e+01],\n",
       "       [-5.04124242e+02,  1.50000000e+01,  8.54525000e+05,\n",
       "         1.20000000e+01, -8.65562531e+04]])"
      ]
     },
     "execution_count": 30,
     "metadata": {},
     "output_type": "execute_result"
    }
   ],
   "source": [
    "W=L+D\n",
    "W"
   ]
  },
  {
   "cell_type": "code",
   "execution_count": null,
   "metadata": {},
   "outputs": [],
   "source": [
    "N=np.array([[10,72,80,62,34],\n",
    "    [37,10,55,90,26],\n",
    "    [45,41,15,14,44],\n",
    "    [15,8,1,23,28],\n",
    "    [67,39,89,4,23]])"
   ]
  },
  {
   "cell_type": "code",
   "execution_count": 38,
   "metadata": {},
   "outputs": [
    {
     "data": {
      "text/plain": [
       "array([[ 2.40000000e+01,  6.15000000e+01,  8.06666667e+01,\n",
       "         7.80000000e+01,  1.19733333e+02],\n",
       "       [ 1.98000000e+02,  3.60357143e+02,  4.41000000e+02,\n",
       "         2.39000000e+02,  2.20000000e+02],\n",
       "       [ 1.32500000e+03,  3.03000000e+02,  3.88526117e+03,\n",
       "         1.48200000e+03,  1.63333333e+03],\n",
       "       [ 6.26000000e+02, -3.10452549e+03,  1.77650000e+04,\n",
       "         1.92546976e+05,  5.04120000e+04],\n",
       "       [-3.42098711e+06,  1.64520000e+05,  1.51541464e+10,\n",
       "         3.44172000e+05, -4.01560425e+09]])"
      ]
     },
     "execution_count": 38,
     "metadata": {},
     "output_type": "execute_result"
    }
   ],
   "source": [
    "E=C*W\n",
    "E"
   ]
  },
  {
   "cell_type": "code",
   "execution_count": null,
   "metadata": {},
   "outputs": [
    {
     "data": {
      "text/plain": [
       "array([[ True, False,  True,  True,  True],\n",
       "       [ True,  True,  True,  True,  True],\n",
       "       [ True,  True,  True,  True,  True],\n",
       "       [ True, False,  True,  True,  True],\n",
       "       [False,  True,  True,  True, False]])"
      ]
     },
     "execution_count": 40,
     "metadata": {},
     "output_type": "execute_result"
    }
   ],
   "source": [
    "np.less(N,E)#полученная нами матрица меньше"
   ]
  },
  {
   "cell_type": "code",
   "execution_count": null,
   "metadata": {},
   "outputs": [],
   "source": []
  }
 ],
 "metadata": {
  "kernelspec": {
   "display_name": "Python 3",
   "language": "python",
   "name": "python3"
  },
  "language_info": {
   "codemirror_mode": {
    "name": "ipython",
    "version": 3
   },
   "file_extension": ".py",
   "mimetype": "text/x-python",
   "name": "python",
   "nbconvert_exporter": "python",
   "pygments_lexer": "ipython3",
   "version": "3.12.3"
  }
 },
 "nbformat": 4,
 "nbformat_minor": 2
}
